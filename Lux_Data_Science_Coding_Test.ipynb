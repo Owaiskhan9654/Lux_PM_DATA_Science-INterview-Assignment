{
 "cells": [
  {
   "cell_type": "markdown",
   "id": "78a8132d",
   "metadata": {},
   "source": [
    "# Importing Some Libraries"
   ]
  },
  {
   "cell_type": "code",
   "execution_count": 1,
   "id": "worst-poverty",
   "metadata": {},
   "outputs": [],
   "source": [
    "import cv2\n",
    "import numpy as np\n",
    "import math"
   ]
  },
  {
   "cell_type": "markdown",
   "id": "disabled-disease",
   "metadata": {},
   "source": [
    "## Que: Convert the image into a gray-scale format"
   ]
  },
  {
   "cell_type": "code",
   "execution_count": 2,
   "id": "dynamic-hunter",
   "metadata": {},
   "outputs": [],
   "source": [
    "def color_to_gray_scale(image, output_path):\n",
    "    image = cv2.imread(image)\n",
    "    gray_img = cv2.cvtColor(image, cv2.COLOR_BGR2GRAY)\n",
    "    cv2.imwrite(output_path, gray_img)\n",
    "    return gray_img"
   ]
  },
  {
   "cell_type": "code",
   "execution_count": 3,
   "id": "efficient-postcard",
   "metadata": {},
   "outputs": [],
   "source": [
    "gray_img_1 = color_to_gray_scale('apple_1.png', 'Output_Lux/apple_1_gray.png')"
   ]
  },
  {
   "cell_type": "code",
   "execution_count": 4,
   "id": "cheap-gabriel",
   "metadata": {},
   "outputs": [],
   "source": [
    "gray_img_2 = color_to_gray_scale('apple_2.png', 'Output_Lux/apple_2_gray.png')"
   ]
  },
  {
   "cell_type": "markdown",
   "id": "surface-measurement",
   "metadata": {},
   "source": [
    "## Que: Define the outermost edge of the apple."
   ]
  },
  {
   "cell_type": "code",
   "execution_count": 5,
   "id": "muslim-dietary",
   "metadata": {},
   "outputs": [],
   "source": [
    "def edge_detection_1(image, output_path):\n",
    "    image = cv2.imread(image)\n",
    "    image = cv2.medianBlur(image, 7)\n",
    "    edge = cv2.Canny(image, 200, 350, 5)\n",
    "    kernel = cv2.getStructuringElement(cv2.MORPH_RECT, (11, 11))\n",
    "    edge = cv2.morphologyEx(edge, cv2.MORPH_CLOSE, kernel)\n",
    "    cv2.imwrite(output_path, edge)\n",
    "    return edge"
   ]
  },
  {
   "cell_type": "code",
   "execution_count": 6,
   "id": "enormous-control",
   "metadata": {},
   "outputs": [],
   "source": [
    "edge1 = edge_detection_1('apple_1.png', 'Output_Lux/apple_1_edges.jpg')"
   ]
  },
  {
   "cell_type": "code",
   "execution_count": 7,
   "id": "worth-brand",
   "metadata": {},
   "outputs": [],
   "source": [
    "def edge_detection_2(image, output_path):\n",
    "    image = cv2.imread(image)\n",
    "    image = cv2.medianBlur(image, 6)\n",
    "    edge = cv2.Canny(image, 300, 400, 11)\n",
    "    kernel = cv2.getStructuringElement(cv2.MORPH_RECT, (11, 11))\n",
    "    edge = cv2.morphologyEx(edge, cv2.MORPH_CLOSE, kernel)\n",
    "    cv2.imwrite(output_path, edge)\n",
    "    return edge"
   ]
  },
  {
   "cell_type": "code",
   "execution_count": 8,
   "id": "annoying-documentary",
   "metadata": {},
   "outputs": [],
   "source": [
    "edge2 = edge_detection_2('apple_2.png', 'Output_Lux/apple_2_edges.jpg')"
   ]
  },
  {
   "cell_type": "code",
   "execution_count": 9,
   "id": "direct-diagnosis",
   "metadata": {},
   "outputs": [],
   "source": [
    "def get_max_distances(boundary_matrix):\n",
    "    max_dist = 0\n",
    "    for i in range(len(boundary_matrix)):\n",
    "        for j in range(len(boundary_matrix)):\n",
    "            dist = math.dist(boundary_matrix[i], boundary_matrix[j])\n",
    "            if dist > max_dist:\n",
    "                max_dist = dist\n",
    "    return max_dist\n",
    "\n",
    "def get_edge_dist(image):\n",
    "    x, y = image.shape[:2]\n",
    "    area = 0\n",
    "    boundary_matrix = []\n",
    "    for j in range(y):\n",
    "        x_list = []\n",
    "        for i in range(x):    \n",
    "            if image[i,j] != 0:\n",
    "                boundary_matrix.append([i,j])\n",
    "    \n",
    "    np.array(boundary_matrix)\n",
    "\n",
    "    max_dist = get_max_distances(boundary_matrix)\n",
    "    \n",
    "    return max_dist\n",
    "    \n",
    "def get_row_area(col):\n",
    "    area = 0\n",
    "    for v in range(len(col)-1):\n",
    "        area += abs(col[v]-col[v+1])\n",
    "\n",
    "    return area\n",
    "\n",
    "def get_edge_area(image):\n",
    "    x,y = image.shape[:2]\n",
    "    area = 0\n",
    "    boundary_matrix = []\n",
    "    for j in range(y):\n",
    "        x_list = []\n",
    "        for i in range(x):    \n",
    "            if image[i,j] != 0:\n",
    "                x_list.append(i)\n",
    "        boundary_matrix.append(x_list)\n",
    "\n",
    "    area = 0\n",
    "    for col in boundary_matrix:\n",
    "        if col:\n",
    "            area += get_row_area(col)\n",
    "\n",
    "    return area"
   ]
  },
  {
   "cell_type": "markdown",
   "id": "otherwise-vaccine",
   "metadata": {},
   "source": [
    "## Que: Find the ratio between the areas of the two edges"
   ]
  },
  {
   "cell_type": "code",
   "execution_count": 10,
   "id": "traditional-treat",
   "metadata": {},
   "outputs": [
    {
     "name": "stdout",
     "output_type": "stream",
     "text": [
      "Calculating area and the ratio of the images...\n",
      "Area of Apple in image 1: 2007371  px\n",
      "Area of Apple in image 2: 808181  px\n",
      "Area Ratio: 2.48\n",
      "Wall time: 23.6 s\n"
     ]
    }
   ],
   "source": [
    "%%time\n",
    "print('Calculating area and the ratio of the images...')\n",
    "area1 = get_edge_area(edge1)\n",
    "area2 = get_edge_area(edge2)\n",
    "area_ratio = area1/area2\n",
    "print('Area of Apple in image 1:', area1, ' px')\n",
    "print('Area of Apple in image 2:', area2, ' px')\n",
    "print('Area Ratio: %.2f' %(area_ratio))"
   ]
  },
  {
   "cell_type": "markdown",
   "id": "ordinary-cigarette",
   "metadata": {},
   "source": [
    "### Que: Find the longest distance between the two points and Find the ratio between the two distances"
   ]
  },
  {
   "cell_type": "code",
   "execution_count": 11,
   "id": "middle-exemption",
   "metadata": {},
   "outputs": [
    {
     "name": "stdout",
     "output_type": "stream",
     "text": [
      "Calculating maximum edge distance and the ratio of the images....\n",
      "Max Edge distance in Apple Image 1: 2090.0260763923498 px\n",
      "Max Edge distance in Apple Image 2: 1268.9877855992152 px\n",
      "Distance Ratio: 1.647\n",
      "Wall time: 2min 46s\n"
     ]
    }
   ],
   "source": [
    "%%time\n",
    "\n",
    "print('Calculating maximum edge distance and the ratio of the images....')\n",
    "dist1 = get_edge_dist(edge1)\n",
    "dist2 = get_edge_dist(edge2)\n",
    "dis_ratio = dist1/dist2\n",
    "print('Max Edge distance in Apple Image 1:', dist1 ,'px')\n",
    "print('Max Edge distance in Apple Image 2:', dist2 ,'px')\n",
    "print('Distance Ratio: %.3f' %(dis_ratio))"
   ]
  },
  {
   "cell_type": "markdown",
   "id": "df91d8da",
   "metadata": {},
   "source": [
    "# Personal Question Asked"
   ]
  },
  {
   "cell_type": "markdown",
   "id": "3a606f5e",
   "metadata": {},
   "source": [
    "### What is your desired salary?\n",
    "#### Answer:- 7 LPA(Negotiable)\n",
    "### What is your ideal starting date?\n",
    "#### Answer:- Immediate Joiner\n",
    "### If you live more than 70 minutes away from the company’s location, are you willing to be relocated to somewhere closer to the company?\n",
    "#### Answer:- Currently Residing in Delhi only\n",
    "### If you live outside of the company, do you need sponsorship for visa?\n",
    "#### Answer:- No\n",
    "### What is the level of your proficiency in English?\n",
    "#### Answer:- Intermediate \n",
    "### Also, please note that this is not a remote position."
   ]
  },
  {
   "cell_type": "code",
   "execution_count": null,
   "id": "b00a0cf3",
   "metadata": {},
   "outputs": [],
   "source": []
  }
 ],
 "metadata": {
  "kernelspec": {
   "display_name": "Python 3",
   "language": "python",
   "name": "python3"
  },
  "language_info": {
   "codemirror_mode": {
    "name": "ipython",
    "version": 3
   },
   "file_extension": ".py",
   "mimetype": "text/x-python",
   "name": "python",
   "nbconvert_exporter": "python",
   "pygments_lexer": "ipython3",
   "version": "3.8.3"
  }
 },
 "nbformat": 4,
 "nbformat_minor": 5
}
